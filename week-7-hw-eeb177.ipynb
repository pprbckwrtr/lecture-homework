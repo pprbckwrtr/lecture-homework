{
 "cells": [
  {
   "cell_type": "code",
   "execution_count": 5,
   "metadata": {
    "collapsed": false,
    "scrolled": true
   },
   "outputs": [],
   "source": [
    "#making markdown file of favorite fish and descriptors \n",
    "#import fish \n",
    "import urllib.request\n",
    "import json\n",
    "\n",
    "fishoutput = open (\"/home/eeb177-student/Desktop/eeb-177/homework/fishoutput.md\", \"w\")\n",
    "#markdown file to write to\n",
    "\n",
    "#apis of urls of fav fish\n",
    "api_url1 = \"https://fishbase.ropensci.org/species/?genus=Lophius&species=piscatorius\"\n",
    "api_url2 = \"https://fishbase.ropensci.org/species/?genus=Pygoplites&species=diacanthus\"\n",
    "api_url3 = \"https://fishbase.ropensci.org/species/?genus=Carassius&species=Auratus\"\n",
    "\n",
    "#opening\n",
    "raw_json1 = urllib.request.urlopen(\"https://fishbase.ropensci.org/species/?genus=Lophius&species=piscatorius\")\n",
    "raw_json2 = urllib.request.urlopen(\"https://fishbase.ropensci.org/species/?genus=Pygoplites&species=diacanthus\")\n",
    "raw_json3 = urllib.request.urlopen(\"https://fishbase.ropensci.org/species/?genus=Carassius&species=Auratus\")\n",
    "\n",
    "\n",
    "decoded_json1 = raw_json1.read().decode(\"utf-8\")\n",
    "decoded_json2 = raw_json2.read().decode(\"utf-8\")\n",
    "decoded_json3 = raw_json3.read().decode(\"utf-8\")\n",
    "\n",
    "parsed_json1 = json.loads(decoded_json1)\n",
    "parsed_json2 = json.loads(decoded_json2)\n",
    "parsed_json3 = json.loads(decoded_json3)\n",
    "\n",
    "raw_json1.close()\n",
    "raw_json2.close()\n",
    "raw_json3.close()\n",
    "\n",
    "all_parsed_jsons = [parsed_json1, parsed_json2, parsed_json3] #list of dictionaries \n",
    "\n",
    "fishoutput.write(\"# My Favorite Fish: \\n\")\n",
    "\n",
    "for json in all_parsed_jsons:\n",
    "    fishoutput.write(\"Weight: \"+str(json[\"data\"][0][\"Weight\"])+\"<br>\"+\"\\n\") #weight of fish\n",
    "    fishoutput.write(\"Length: \"+str(json[\"data\"][0][\"Length\"])+\"<br>\"+\"\\n\") #length of fish\n",
    "    \n",
    "fishoutput.close()\n"
   ]
  },
  {
   "cell_type": "code",
   "execution_count": null,
   "metadata": {
    "collapsed": true
   },
   "outputs": [],
   "source": []
  }
 ],
 "metadata": {
  "anaconda-cloud": {},
  "kernelspec": {
   "display_name": "Python [default]",
   "language": "python",
   "name": "python3"
  },
  "language_info": {
   "codemirror_mode": {
    "name": "ipython",
    "version": 3
   },
   "file_extension": ".py",
   "mimetype": "text/x-python",
   "name": "python",
   "nbconvert_exporter": "python",
   "pygments_lexer": "ipython3",
   "version": "3.5.2"
  }
 },
 "nbformat": 4,
 "nbformat_minor": 2
}
