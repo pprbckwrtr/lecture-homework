{
 "cells": [
  {
   "cell_type": "markdown",
   "metadata": {
    "collapsed": true
   },
   "source": [
    "# Part I\n",
    "# Python Syntax Badge\n",
    "<img src = \"pythonsyntax.png\">"
   ]
  },
  {
   "cell_type": "markdown",
   "metadata": {},
   "source": [
    "# String and console output\n",
    "I accidentally clicked out of the badge when I received it, by I think double clicking on \"Next: Review\"\n",
    "\n",
    "<img src = \"Screenshot1.png\">"
   ]
  },
  {
   "cell_type": "markdown",
   "metadata": {},
   "source": [
    "# Conditionals\n",
    "<img src = \"Screenshot2.png\">\n"
   ]
  },
  {
   "cell_type": "markdown",
   "metadata": {},
   "source": [
    "# Functions\n",
    "<img src = \"functions.png\">"
   ]
  },
  {
   "cell_type": "markdown",
   "metadata": {},
   "source": [
    "# Lists and Functions\n",
    "Again, I accidentally clicked out of the badge when I double clicked on the \"Next\" button. \n",
    "\n",
    "<img src = \"lists.png\">"
   ]
  },
  {
   "cell_type": "markdown",
   "metadata": {},
   "source": [
    "# Loops\n",
    "<img src = \"loops.png\">"
   ]
  },
  {
   "cell_type": "markdown",
   "metadata": {},
   "source": [
    "# Practice makes perfect\n",
    "<img src = \"practicemakes.png\">"
   ]
  },
  {
   "cell_type": "markdown",
   "metadata": {
    "collapsed": true
   },
   "source": [
    "# Part II\n",
    "\n",
    "Python for Biologists, pg 194 problem\n",
    "\n",
    "### DNA translation\n",
    "Write a program that will translate a DNA sequence into protein. Your program \n",
    "should use the standard genetic code which can be found at this URL.\n",
    "\n",
    "#### Pseudocode\n",
    "\n",
    "define string as DNA sequence\n",
    "open gencode (held in dictionary)\n",
    "split sequence into triplets (codons)\n",
    "loop over range of codons from start to final (len(DNA)-2)\n",
    "    define a codon\n",
    "    amino acid is the key value of dictionary (should be upper)\n",
    "    add amino acid to protein that's being \"created\"\n",
    "return protein"
   ]
  },
  {
   "cell_type": "code",
   "execution_count": 1,
   "metadata": {
    "collapsed": true
   },
   "outputs": [],
   "source": [
    "#sample sequence\n",
    "dna = \"ATGTTCGGT\""
   ]
  },
  {
   "cell_type": "code",
   "execution_count": 2,
   "metadata": {
    "collapsed": true
   },
   "outputs": [],
   "source": [
    "# genetic code in dictionary\n",
    "gencode = {\n",
    "'ATA':'I', 'ATC':'I', 'ATT':'I', 'ATG':'M',\n",
    "'ACA':'T', 'ACC':'T', 'ACG':'T', 'ACT':'T',\n",
    "'AAC':'N', 'AAT':'N', 'AAA':'K', 'AAG':'K',\n",
    "'AGC':'S', 'AGT':'S', 'AGA':'R', 'AGG':'R',\n",
    "'CTA':'L', 'CTC':'L', 'CTG':'L', 'CTT':'L',\n",
    "'CCA':'P', 'CCC':'P', 'CCG':'P', 'CCT':'P',\n",
    "'CAC':'H', 'CAT':'H', 'CAA':'Q', 'CAG':'Q',\n",
    "'CGA':'R', 'CGC':'R', 'CGG':'R', 'CGT':'R',\n",
    "'GTA':'V', 'GTC':'V', 'GTG':'V', 'GTT':'V',\n",
    "'GCA':'A', 'GCC':'A', 'GCG':'A', 'GCT':'A',\n",
    "'GAC':'D', 'GAT':'D', 'GAA':'E', 'GAG':'E',\n",
    "'GGA':'G', 'GGC':'G', 'GGG':'G', 'GGT':'G',\n",
    "'TCA':'S', 'TCC':'S', 'TCG':'S', 'TCT':'S',\n",
    "'TTC':'F', 'TTT':'F', 'TTA':'L', 'TTG':'L',\n",
    "'TAC':'Y', 'TAT':'Y', 'TAA':'_', 'TAG':'_',\n",
    "'TGC':'C', 'TGT':'C', 'TGA':'_', 'TGG':'W'}"
   ]
  },
  {
   "cell_type": "code",
   "execution_count": 3,
   "metadata": {
    "collapsed": true
   },
   "outputs": [],
   "source": [
    "#define function\n",
    "def translate_dna(dna): \n",
    "    #start of the last codon is the third to last character in string, length of dna -2\n",
    "    last_codon_start = len(dna) - 2 \n",
    "    #empty protein string for now, hasn't been through the loop yet\n",
    "    protein = \"\" \n",
    "    #loops over every 3rd nucleotide\n",
    "    for start in range(0,last_codon_start,3): \n",
    "        #defining codon as a 3 nucleotide sequence\n",
    "        codon = dna[start:start+3] \n",
    "        #grabbing from dictionary, if untranslatable, replace with X\n",
    "        aa = gencode.get(codon.upper(), 'X') \n",
    "        #adding to protein\n",
    "        protein = protein + aa \n",
    "    return protein "
   ]
  },
  {
   "cell_type": "code",
   "execution_count": 4,
   "metadata": {
    "collapsed": false
   },
   "outputs": [
    {
     "name": "stdout",
     "output_type": "stream",
     "text": [
      "MFG\n",
      "IDRSLLIDQ\n",
      "TDRSLLTYR\n",
      "TIDRXVRSYS\n"
     ]
    }
   ],
   "source": [
    "#Checking that it works!\n",
    "#simple sequence\n",
    "print(translate_dna(\"ATGTTCGGT\")) \n",
    "#not divisible by 3\n",
    "print(translate_dna(\"ATCGATCGATCGTTGCTTATCGATCAG\")) \n",
    "#lowercase\n",
    "print(translate_dna(\"actgatcgtagcttgcttacgtatcgtat\"))\n",
    "#non-translatable nucleotides\n",
    "print(translate_dna(\"ACGATCGATCGTNACGTACGATCGTACTCG\")) "
   ]
  },
  {
   "cell_type": "markdown",
   "metadata": {},
   "source": [
    "# Part III\n",
    "\n",
    "### 4.3.2 in Allesina\n",
    "\n",
    "    function should take input as size and probability of A allele\n",
    "    genotype frequencies to determine if allele has gone to fixation\n",
    "    reproduction function"
   ]
  },
  {
   "cell_type": "code",
   "execution_count": 22,
   "metadata": {
    "collapsed": false
   },
   "outputs": [],
   "source": [
    "import scipy # for random numbers\n",
    "def build_population(N, p):\n",
    "    population = []\n",
    "    for i in range(N):\n",
    "        allele1 = \"A\"\n",
    "        if scipy.random.rand() > p:\n",
    "            allele1 = \"a\"\n",
    "            allele2 = \"A\"\n",
    "        if scipy.random.rand() > p:\n",
    "            allele2 = \"a\"\n",
    "        population.append((allele1, allele2))\n",
    "    return population"
   ]
  },
  {
   "cell_type": "code",
   "execution_count": 26,
   "metadata": {
    "collapsed": false
   },
   "outputs": [
    {
     "data": {
      "text/plain": [
       "[('a', 'a'), ('A', 'a'), ('A', 'a'), ('A', 'a'), ('a', 'a')]"
      ]
     },
     "execution_count": 26,
     "metadata": {},
     "output_type": "execute_result"
    }
   ],
   "source": [
    "build_population(5, 0.7)"
   ]
  },
  {
   "cell_type": "code",
   "execution_count": 32,
   "metadata": {
    "collapsed": false
   },
   "outputs": [
    {
     "ename": "SyntaxError",
     "evalue": "invalid character in identifier (<ipython-input-32-05c2046c3f0a>, line 2)",
     "output_type": "error",
     "traceback": [
      "\u001b[0;36m  File \u001b[0;32m\"<ipython-input-32-05c2046c3f0a>\"\u001b[0;36m, line \u001b[0;32m2\u001b[0m\n\u001b[0;31m    AA = population.count((’A’, ’A’))\u001b[0m\n\u001b[0m                             ^\u001b[0m\n\u001b[0;31mSyntaxError\u001b[0m\u001b[0;31m:\u001b[0m invalid character in identifier\n"
     ]
    }
   ],
   "source": [
    "def compute_frequencies(population):\n",
    "    AA = population.count((’A’, ’A’))\n",
    "    Aa = population.count((’A’, ’a’))\n",
    "    aA = population.count((’a’, ’A’))\n",
    "    aa = population.count((’a’, ’a’))\n",
    "return({AA: AA,aa: aa,Aa: Aa,aA: aA})"
   ]
  },
  {
   "cell_type": "code",
   "execution_count": null,
   "metadata": {
    "collapsed": true
   },
   "outputs": [],
   "source": []
  }
 ],
 "metadata": {
  "anaconda-cloud": {},
  "kernelspec": {
   "display_name": "Python [default]",
   "language": "python",
   "name": "python3"
  },
  "language_info": {
   "codemirror_mode": {
    "name": "ipython",
    "version": 3
   },
   "file_extension": ".py",
   "mimetype": "text/x-python",
   "name": "python",
   "nbconvert_exporter": "python",
   "pygments_lexer": "ipython3",
   "version": "3.5.2"
  }
 },
 "nbformat": 4,
 "nbformat_minor": 2
}
