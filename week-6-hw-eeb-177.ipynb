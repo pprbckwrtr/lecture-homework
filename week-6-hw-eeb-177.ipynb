{
 "cells": [
  {
   "cell_type": "markdown",
   "metadata": {
    "collapsed": true
   },
   "source": [
    "# Part I\n",
    "# Python Syntax Badge\n",
    "<img src = \"/home/eeb177-student/Desktop/eeb-177/homework/pythonsyntax.png\">"
   ]
  },
  {
   "cell_type": "markdown",
   "metadata": {},
   "source": [
    "# String and console output\n",
    "I accidentally clicked out of the badge when I received it, by I think double clicking on \"Next: Review\"\n",
    "\n",
    "<img src = \"/home/eeb177-student/Desktop/eeb-177/homework/Screenshot1.png\">"
   ]
  },
  {
   "cell_type": "markdown",
   "metadata": {},
   "source": [
    "# Conditionals\n",
    "<img src = \"/home/eeb177-student/Desktop/eeb-177/homework/Screenshot2.png\">\n"
   ]
  },
  {
   "cell_type": "markdown",
   "metadata": {},
   "source": [
    "# Functions\n",
    "<img src = \"/home/eeb177-student/Desktop/eeb-177/homework/functions.png\">"
   ]
  },
  {
   "cell_type": "markdown",
   "metadata": {},
   "source": [
    "# Lists and Functions\n",
    "Again, I accidentally clicked out of the badge when I double clicked on the \"Next\" button. \n",
    "\n",
    "<img src = \"/home/eeb177-student/Desktop/eeb-177/homework/lists.png\">"
   ]
  },
  {
   "cell_type": "markdown",
   "metadata": {},
   "source": [
    "# Loops\n",
    "<img src = \"/home/eeb177-student/Desktop/eeb-177/homework/loops.png\">"
   ]
  },
  {
   "cell_type": "markdown",
   "metadata": {},
   "source": [
    "# Practice makes perfect\n",
    "<img src = \"/home/eeb177-student/Desktop/eeb-177/homework/practicemakes.png\">"
   ]
  },
  {
   "cell_type": "markdown",
   "metadata": {
    "collapsed": true
   },
   "source": [
    "# Part II\n",
    "\n",
    "Python for Biologists, pg 194 problem\n",
    "\n",
    "### DNA translation\n",
    "Write a program that will translate a DNA sequence into protein. Your program \n",
    "should use the standard genetic code which can be found at this URL.\n",
    "\n",
    "#### Pseudocode\n",
    "\n",
    "define string as DNA sequence\n",
    "open gencode (held in dictionary)\n",
    "split sequence into triplets (codons)\n",
    "loop over range of codons from start to final (len(DNA)-2)\n",
    "    define a codon\n",
    "    amino acid is the key value of dictionary (should be upper)\n",
    "    add amino acid to protein that's being \"created\"\n",
    "return protein"
   ]
  },
  {
   "cell_type": "code",
   "execution_count": 1,
   "metadata": {
    "collapsed": true
   },
   "outputs": [],
   "source": [
    "#sample sequence\n",
    "dna = \"ATGTTCGGT\""
   ]
  },
  {
   "cell_type": "code",
   "execution_count": 2,
   "metadata": {
    "collapsed": true
   },
   "outputs": [],
   "source": [
    "# genetic code in dictionary\n",
    "gencode = {\n",
    "'ATA':'I', 'ATC':'I', 'ATT':'I', 'ATG':'M',\n",
    "'ACA':'T', 'ACC':'T', 'ACG':'T', 'ACT':'T',\n",
    "'AAC':'N', 'AAT':'N', 'AAA':'K', 'AAG':'K',\n",
    "'AGC':'S', 'AGT':'S', 'AGA':'R', 'AGG':'R',\n",
    "'CTA':'L', 'CTC':'L', 'CTG':'L', 'CTT':'L',\n",
    "'CCA':'P', 'CCC':'P', 'CCG':'P', 'CCT':'P',\n",
    "'CAC':'H', 'CAT':'H', 'CAA':'Q', 'CAG':'Q',\n",
    "'CGA':'R', 'CGC':'R', 'CGG':'R', 'CGT':'R',\n",
    "'GTA':'V', 'GTC':'V', 'GTG':'V', 'GTT':'V',\n",
    "'GCA':'A', 'GCC':'A', 'GCG':'A', 'GCT':'A',\n",
    "'GAC':'D', 'GAT':'D', 'GAA':'E', 'GAG':'E',\n",
    "'GGA':'G', 'GGC':'G', 'GGG':'G', 'GGT':'G',\n",
    "'TCA':'S', 'TCC':'S', 'TCG':'S', 'TCT':'S',\n",
    "'TTC':'F', 'TTT':'F', 'TTA':'L', 'TTG':'L',\n",
    "'TAC':'Y', 'TAT':'Y', 'TAA':'_', 'TAG':'_',\n",
    "'TGC':'C', 'TGT':'C', 'TGA':'_', 'TGG':'W'}"
   ]
  },
  {
   "cell_type": "code",
   "execution_count": 3,
   "metadata": {
    "collapsed": true
   },
   "outputs": [],
   "source": [
    "#define function\n",
    "def translate_dna(dna): \n",
    "    #start of the last codon is the third to last character in string, length of dna -2\n",
    "    last_codon_start = len(dna) - 2 \n",
    "    #empty protein string for now, hasn't been through the loop yet\n",
    "    protein = \"\" \n",
    "    #loops over every 3rd nucleotide\n",
    "    for start in range(0,last_codon_start,3): \n",
    "        #defining codon as a 3 nucleotide sequence\n",
    "        codon = dna[start:start+3] \n",
    "        #grabbing from dictionary, if untranslatable, replace with X\n",
    "        aa = gencode.get(codon.upper(), 'X') \n",
    "        #adding to protein\n",
    "        protein = protein + aa \n",
    "    return protein "
   ]
  },
  {
   "cell_type": "code",
   "execution_count": 4,
   "metadata": {
    "collapsed": false
   },
   "outputs": [
    {
     "name": "stdout",
     "output_type": "stream",
     "text": [
      "MFG\n",
      "IDRSLLIDQ\n",
      "TDRSLLTYR\n",
      "TIDRXVRSYS\n"
     ]
    }
   ],
   "source": [
    "#Checking that it works!\n",
    "#simple sequence\n",
    "print(translate_dna(\"ATGTTCGGT\")) \n",
    "#not divisible by 3\n",
    "print(translate_dna(\"ATCGATCGATCGTTGCTTATCGATCAG\")) \n",
    "#lowercase\n",
    "print(translate_dna(\"actgatcgtagcttgcttacgtatcgtat\"))\n",
    "#non-translatable nucleotides\n",
    "print(translate_dna(\"ACGATCGATCGTNACGTACGATCGTACTCG\")) "
   ]
  },
  {
   "cell_type": "markdown",
   "metadata": {},
   "source": [
    "# Part III\n",
    "\n",
    "### 4.3.2 in Allesina\n",
    "\n",
    "    1.function should take input as size and probability of A allele\n",
    "    genotype frequencies to determine if allele has gone to fixation\n",
    "    reproduction function"
   ]
  },
  {
   "cell_type": "code",
   "execution_count": null,
   "metadata": {
    "collapsed": false
   },
   "outputs": [],
   "source": [
    "#population = N, alleles A (probability p) and a (probability 1-p)\n",
    "import scipy # for random numbers\n",
    "def build_population(N, p):\n",
    "    population = []\n",
    "    for i in range(N):\n",
    "        allele1 = \"A\"\n",
    "        if scipy.random.rand() > p:\n",
    "            allele1 = \"a\"\n",
    "            allele2 = \"A\"\n",
    "        if scipy.random.rand() > p:\n",
    "            allele2 = \"a\"\n",
    "        population.append((allele1, allele2))\n",
    "    return population\n",
    "\n",
    "#count genotypes and return dictionary with counts of genotypes\n",
    "def compute_frequencies(population):\n",
    "    AA = population.count(('A', 'A'))\n",
    "    Aa = population.count(('A', 'a'))\n",
    "    aA = population.count(('a', 'A'))\n",
    "    aa = population.count(('a', 'a'))\n",
    "    return({'AA': AA,'aa': aa,'Aa': Aa,'aA': aA})\n",
    "\n",
    "def reproduce_population(population):\n",
    "#Reproduction function\n",
    "#Choose the parents at random\n",
    "#The offspring receives a chromosomes from each of the parents\n",
    "    new_generation = []\n",
    "    N = len(population)\n",
    "    for i in range(N):\n",
    "        dad = scipy.random.randint(N) # random integer between 0 and N-1\n",
    "        mom = scipy.random.randint(N)\n",
    "        chr_mom = scipy.random.randint(2) # which chromosome comes from mom\n",
    "        offspring = (population[mom][chr_mom], population[dad][1 - chr_mom])\n",
    "        new_generation.append(offspring)\n",
    "        return(new_generation)\n",
    "\n",
    "def simulate_drift(N, p):\n",
    "    # initialize the population\n",
    "    my_pop = build_population(N, p)\n",
    "    fixation = False\n",
    "    num_generations = 0\n",
    "    while fixation == False:\n",
    "        # compute genotype counts\n",
    "        genotype_counts = compute_frequencies(my_pop)\n",
    "        # if one allele went to fixation, end the simulation\n",
    "        if genotype_counts['AA'] == N or genotype_counts['aa'] == N:\n",
    "            print('An allele reached fixation at generation', num_generations)\n",
    "            print('The genotype counts are')\n",
    "            print(genotype_counts)\n",
    "            fixation == True\n",
    "            break\n",
    "            # if not, reproduce\n",
    "        my_pop = reproduce_population(my_pop)\n",
    "        num_generations = num_generations + 1\n",
    "simulate_drift(100, 0.5)"
   ]
  },
  {
   "cell_type": "markdown",
   "metadata": {
    "collapsed": false
   },
   "source": [
    "    2. Allesina 4.9.1: You find the data in python/data/Jiang2013_data.csv . Write a\n",
    "    function that takes as input the desired Taxon , and returns the mean\n",
    "    value of r ."
   ]
  },
  {
   "cell_type": "code",
   "execution_count": 28,
   "metadata": {
    "collapsed": false
   },
   "outputs": [
    {
     "name": "stdout",
     "output_type": "stream",
     "text": [
      "0.40302827731946345\n"
     ]
    }
   ],
   "source": [
    "#avoided replacing \\t with commas\n",
    "\n",
    "import re\n",
    "def get_r(taxon):\n",
    "    fileobj=open(\"Jiang2013_data.csv\").readlines() #open and read Jiang file\n",
    "    r = 0\n",
    "    num = 0\n",
    "    for line in fileobj:\n",
    "        lsts=line.split(\"\\t\") #making lines into lists\n",
    "        if (len(lsts) > 1) and (lsts[1] == taxon):\n",
    "            r = r + float(line.split('\\t')[3])\n",
    "            num = num + 1\n",
    "    r= r / num\n",
    "    return r\n",
    "print(get_r(\"Crustacean\"))"
   ]
  },
  {
   "cell_type": "code",
   "execution_count": null,
   "metadata": {
    "collapsed": false
   },
   "outputs": [],
   "source": []
  },
  {
   "cell_type": "code",
   "execution_count": null,
   "metadata": {
    "collapsed": true
   },
   "outputs": [],
   "source": []
  }
 ],
 "metadata": {
  "anaconda-cloud": {},
  "kernelspec": {
   "display_name": "Python [default]",
   "language": "python",
   "name": "python3"
  },
  "language_info": {
   "codemirror_mode": {
    "name": "ipython",
    "version": 3
   },
   "file_extension": ".py",
   "mimetype": "text/x-python",
   "name": "python",
   "nbconvert_exporter": "python",
   "pygments_lexer": "ipython3",
   "version": "3.5.2"
  }
 },
 "nbformat": 4,
 "nbformat_minor": 2
}
