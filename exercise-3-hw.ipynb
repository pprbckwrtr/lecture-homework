{
 "cells": [
  {
   "cell_type": "code",
   "execution_count": 1,
   "metadata": {
    "collapsed": true
   },
   "outputs": [],
   "source": [
    "#2 of homework\n",
    "a=3\n",
    "b=17\n",
    "c= a + b"
   ]
  },
  {
   "cell_type": "code",
   "execution_count": 2,
   "metadata": {
    "collapsed": true
   },
   "outputs": [],
   "source": [
    "favorite_animal = \"pronghorn\""
   ]
  },
  {
   "cell_type": "code",
   "execution_count": 16,
   "metadata": {
    "collapsed": false
   },
   "outputs": [],
   "source": [
    "favorite_dinners= [\"pizza\", \"dolma\", \"dim sum\"];\n",
    "num_fav_dinners= len(favorite_dinners)"
   ]
  },
  {
   "cell_type": "code",
   "execution_count": 17,
   "metadata": {
    "collapsed": false
   },
   "outputs": [
    {
     "data": {
      "text/plain": [
       "3"
      ]
     },
     "execution_count": 17,
     "metadata": {},
     "output_type": "execute_result"
    }
   ],
   "source": [
    "num_fav_dinners"
   ]
  },
  {
   "cell_type": "code",
   "execution_count": 18,
   "metadata": {
    "collapsed": false
   },
   "outputs": [
    {
     "data": {
      "text/plain": [
       "20"
      ]
     },
     "execution_count": 18,
     "metadata": {},
     "output_type": "execute_result"
    }
   ],
   "source": [
    "c"
   ]
  },
  {
   "cell_type": "code",
   "execution_count": 50,
   "metadata": {
    "collapsed": false
   },
   "outputs": [
    {
     "name": "stdout",
     "output_type": "stream",
     "text": [
      "What a pleasant temperature!\n"
     ]
    }
   ],
   "source": [
    "#3 of homework\n",
    "def hw3_function(int):\n",
    "    if int < 5:\n",
    "        print (\"Brr! It's cold!\")\n",
    "    elif int > 25:\n",
    "        print (\"It's pretty warm!\")\n",
    "    elif 5 <= int <= 25:\n",
    "        print (\"What a pleasant temperature!\")\n",
    "hw3_function(25)"
   ]
  },
  {
   "cell_type": "code",
   "execution_count": 68,
   "metadata": {
    "collapsed": false,
    "scrolled": false
   },
   "outputs": [
    {
     "name": "stdout",
     "output_type": "stream",
     "text": [
      "match!\n"
     ]
    }
   ],
   "source": [
    "#4 of homework\n",
    "import re\n",
    "dna = \"ATAATTAACGGAGCTTATTA\"\n",
    "if re.search(r\"(GA|TA|TGA|T|G|C)\", dna):\n",
    "    print (\"match!\")"
   ]
  },
  {
   "cell_type": "code",
   "execution_count": 4,
   "metadata": {
    "collapsed": false
   },
   "outputs": [
    {
     "name": "stdout",
     "output_type": "stream",
     "text": [
      "You picked rock; computer picked scissors; +1 for you!\n"
     ]
    }
   ],
   "source": [
    "import random\n",
    "player = [\"rock\", \"paper\", \"scissors\"]\n",
    "computer = random.choice(player)\n",
    "\n",
    "def rps (choice):\n",
    "    if (choice == \"computer\"):\n",
    "        print(\"You pickeds str(choice); computer picked str(choice); This is a tie!\")\n",
    "    elif (choice == \"rock\"):\n",
    "        if computer == \"scissors\":\n",
    "            print (\"You picked rock; computer picked scissors; +1 for you!\")\n",
    "        else:\n",
    "            print (\"You picked rock; computer picked paper; +1 for computer\")\n",
    "    elif (choice == \"scissors\"):\n",
    "        if computer == \"paper\":\n",
    "            print (\"You picked scissors; computer picked paper; +1 for you!\")\n",
    "        else:\n",
    "            print(\"You picked scissors; computer picked rock; +1 for computer!\")\n",
    "            \n",
    "rps(\"rock\")"
   ]
  },
  {
   "cell_type": "code",
   "execution_count": null,
   "metadata": {
    "collapsed": true
   },
   "outputs": [],
   "source": []
  }
 ],
 "metadata": {
  "anaconda-cloud": {},
  "kernelspec": {
   "display_name": "Python [conda root]",
   "language": "python",
   "name": "conda-root-py"
  },
  "language_info": {
   "codemirror_mode": {
    "name": "ipython",
    "version": 3
   },
   "file_extension": ".py",
   "mimetype": "text/x-python",
   "name": "python",
   "nbconvert_exporter": "python",
   "pygments_lexer": "ipython3",
   "version": "3.5.2"
  }
 },
 "nbformat": 4,
 "nbformat_minor": 2
}
